{
 "cells": [
  {
   "cell_type": "markdown",
   "metadata": {},
   "source": [
    "# Análisis exploratorio de Tweets\n",
    "\n",
    "## Observaciones\n",
    "\n",
    "- Si en `text` no está el texto completo, está en `extended_tweet.full_text`\n",
    "- Me quedo con el retweet directamente en caso de que sea "
   ]
  },
  {
   "cell_type": "code",
   "execution_count": 1,
   "metadata": {
    "colab": {},
    "colab_type": "code",
    "id": "0FFYIb7rdyo-",
    "outputId": "27e30b05-670e-42af-d17b-ce08882362c2"
   },
   "outputs": [
    {
     "name": "stdout",
     "output_type": "stream",
     "text": [
      "336\n"
     ]
    }
   ],
   "source": [
    "import json\n",
    "import glob\n",
    "from tqdm.notebook import trange, tqdm\n",
    "\n",
    "jsons = glob.glob(\"../data/**/**/*.json\")\n",
    "tweets = []\n",
    "\n",
    "print(len(jsons))\n"
   ]
  },
  {
   "cell_type": "code",
   "execution_count": 5,
   "metadata": {},
   "outputs": [],
   "source": [
    "def get_tweets(json_file, lang):\n",
    "    tweets = []\n",
    "    with open(json_file) as f:\n",
    "        for line in f:\n",
    "            try:\n",
    "                tweet = json.loads(line)\n",
    "                if 'retweeted_status' in tweet:\n",
    "                    tweet = tweet['retweeted_status']\n",
    "\n",
    "                if 'lang' in tweet and tweet['lang'] == lang:\n",
    "                    try:\n",
    "                        text = tweet[\"extended_tweet\"][\"full_text\"]\n",
    "                    except KeyError:\n",
    "                        text = tweet['text']\n",
    "                    tweets.append({\n",
    "                        \"text\": text,\n",
    "                        \"tweet_id\": tweet[\"id\"],\n",
    "                        \"user_id\": tweet[\"user\"][\"id\"],\n",
    "                        \"screen_name\": tweet[\"user\"][\"screen_name\"],\n",
    "                        \"followers_count\": tweet[\"user\"][\"followers_count\"],\n",
    "                    })\n",
    "            except json.JSONDecodeError:\n",
    "                continue\n",
    "    return tweets"
   ]
  },
  {
   "cell_type": "code",
   "execution_count": 6,
   "metadata": {},
   "outputs": [
    {
     "data": {
      "application/vnd.jupyter.widget-view+json": {
       "model_id": "aa1d28fd913a4f249598d97c28ebe37b",
       "version_major": 2,
       "version_minor": 0
      },
      "text/plain": [
       "HBox(children=(FloatProgress(value=0.0, layout=Layout(flex='2'), max=336.0), HTML(value='')), layout=Layout(di…"
      ]
     },
     "metadata": {},
     "output_type": "display_data"
    },
    {
     "name": "stdout",
     "output_type": "stream",
     "text": [
      "\n"
     ]
    },
    {
     "data": {
      "text/plain": [
       "94737"
      ]
     },
     "execution_count": 6,
     "metadata": {},
     "output_type": "execute_result"
    }
   ],
   "source": [
    "pbar = tqdm(jsons, ncols=1000)\n",
    "total_count = 0\n",
    "tweets = []\n",
    "lang = \"es\"\n",
    "for tweet_file in pbar:\n",
    "    tweets += get_tweets(tweet_file, lang)\n",
    "len(tweets)"
   ]
  },
  {
   "cell_type": "code",
   "execution_count": 9,
   "metadata": {},
   "outputs": [],
   "source": [
    "import pandas as pd\n",
    "\n",
    "df = pd.DataFrame(tweets)"
   ]
  },
  {
   "cell_type": "code",
   "execution_count": 35,
   "metadata": {},
   "outputs": [
    {
     "data": {
      "text/plain": [
       "94737"
      ]
     },
     "execution_count": 35,
     "metadata": {},
     "output_type": "execute_result"
    }
   ],
   "source": [
    "len(df)"
   ]
  },
  {
   "cell_type": "code",
   "execution_count": 44,
   "metadata": {},
   "outputs": [],
   "source": [
    "df.sort_values(\"followers_count\", ascending=False, inplace=True)\n"
   ]
  },
  {
   "cell_type": "code",
   "execution_count": 48,
   "metadata": {},
   "outputs": [
    {
     "data": {
      "text/plain": [
       "61410"
      ]
     },
     "execution_count": 48,
     "metadata": {},
     "output_type": "execute_result"
    }
   ],
   "source": [
    "(df[\"followers_count\"] < 10_000).sum()"
   ]
  },
  {
   "cell_type": "code",
   "execution_count": null,
   "metadata": {},
   "outputs": [],
   "source": [
    "df.groupby(\"user_id\").count"
   ]
  },
  {
   "cell_type": "code",
   "execution_count": null,
   "metadata": {},
   "outputs": [],
   "source": []
  }
 ],
 "metadata": {
  "colab": {
   "collapsed_sections": [],
   "name": "Untitled.ipynb",
   "provenance": []
  },
  "kernelspec": {
   "display_name": "Python 3",
   "language": "python",
   "name": "python3"
  },
  "language_info": {
   "codemirror_mode": {
    "name": "ipython",
    "version": 3
   },
   "file_extension": ".py",
   "mimetype": "text/x-python",
   "name": "python",
   "nbconvert_exporter": "python",
   "pygments_lexer": "ipython3",
   "version": "3.6.10"
  }
 },
 "nbformat": 4,
 "nbformat_minor": 4
}
