{
 "cells": [
  {
   "cell_type": "markdown",
   "metadata": {},
   "source": [
    "# Análisis exploratorio de Tweets\n",
    "\n",
    "## Observaciones\n",
    "\n",
    "- Si en `text` no está el texto completo, está en `extended_tweet.full_text`\n",
    "- Me quedo con el retweet directamente en caso de que sea "
   ]
  },
  {
   "cell_type": "code",
   "execution_count": 2,
   "metadata": {
    "colab": {},
    "colab_type": "code",
    "id": "0FFYIb7rdyo-",
    "outputId": "27e30b05-670e-42af-d17b-ce08882362c2"
   },
   "outputs": [
    {
     "name": "stdout",
     "output_type": "stream",
     "text": [
      "1411\n"
     ]
    },
    {
     "data": {
      "application/vnd.jupyter.widget-view+json": {
       "model_id": "485d45e36fcd4515a1abe9bd4ed81f47",
       "version_major": 2,
       "version_minor": 0
      },
      "text/plain": [
       "HBox(children=(IntProgress(value=0, layout=Layout(flex='2'), max=1411), HTML(value='')), layout=Layout(display…"
      ]
     },
     "metadata": {},
     "output_type": "display_data"
    },
    {
     "name": "stdout",
     "output_type": "stream",
     "text": [
      "\n"
     ]
    },
    {
     "data": {
      "text/plain": [
       "1309356"
      ]
     },
     "execution_count": 2,
     "metadata": {},
     "output_type": "execute_result"
    }
   ],
   "source": [
    "import json\n",
    "import glob\n",
    "from tqdm.notebook import trange, tqdm\n",
    "\n",
    "jsons = glob.glob(\"../data/**/**/*.json\")\n",
    "tweets = []\n",
    "\n",
    "print(len(jsons))\n",
    "pbar = tqdm(jsons, ncols=1000)\n",
    "total_count = 0\n",
    "for tweet_file in pbar:\n",
    "    with open(tweet_file) as f:\n",
    "  \n",
    "        for line in f:\n",
    "            try:\n",
    "                total_count += 1\n",
    "                tweet = json.loads(line)\n",
    "                if 'retweeted_status' in tweet:\n",
    "                    tweet = tweet['retweeted_status']\n",
    "                    \n",
    "                if 'lang' in tweet and tweet['lang'] == \"en\":\n",
    "                    try:\n",
    "                        text = tweet[\"extended_tweet\"][\"full_text\"]\n",
    "                    except KeyError:\n",
    "                        text = tweet['text']\n",
    "                    tweets.append(tweet)\n",
    "            except json.JSONDecodeError:\n",
    "                continue\n",
    "        pbar.set_description(f\"{len(tweets) / 1000:.2f}K / {total_count / 1000:.2f}K english tweets so far\")\n",
    "len(tweets)"
   ]
  },
  {
   "cell_type": "code",
   "execution_count": 38,
   "metadata": {},
   "outputs": [
    {
     "data": {
      "text/plain": [
       "18108"
      ]
     },
     "execution_count": 38,
     "metadata": {},
     "output_type": "execute_result"
    }
   ],
   "source": [
    "len([t for t in tweets if \"extended_tweet\" in t])"
   ]
  },
  {
   "cell_type": "code",
   "execution_count": 39,
   "metadata": {},
   "outputs": [
    {
     "data": {
      "text/plain": [
       "18108"
      ]
     },
     "execution_count": 39,
     "metadata": {},
     "output_type": "execute_result"
    }
   ],
   "source": [
    "len([t for t in tweets if \"extended_tweet\" in t and 'full_text' in t[\"extended_tweet\"]])"
   ]
  },
  {
   "cell_type": "code",
   "execution_count": 30,
   "metadata": {},
   "outputs": [],
   "source": [
    "weird_tweets = [t for t in tweets if \"…\" in t[\"text\"] and 'extended_tweet' not in t]"
   ]
  },
  {
   "cell_type": "code",
   "execution_count": null,
   "metadata": {
    "colab": {},
    "colab_type": "code",
    "id": "awfbPFPldypJ"
   },
   "outputs": [],
   "source": [
    "langs = [t[\"lang\"] for t in tweets if 'lang' in t]"
   ]
  },
  {
   "cell_type": "code",
   "execution_count": null,
   "metadata": {
    "colab": {},
    "colab_type": "code",
    "id": "nlllDGwfdypM",
    "outputId": "9823af34-5510-4ec9-b0ff-718b0eccce1a"
   },
   "outputs": [
    {
     "data": {
      "text/plain": [
       "185834"
      ]
     },
     "execution_count": 22,
     "metadata": {
      "tags": []
     },
     "output_type": "execute_result"
    }
   ],
   "source": [
    "len(langs)"
   ]
  },
  {
   "cell_type": "code",
   "execution_count": 14,
   "metadata": {
    "colab": {},
    "colab_type": "code",
    "id": "qeRwYYs9dypS"
   },
   "outputs": [
    {
     "data": {
      "text/plain": [
       "['../data/01/']"
      ]
     },
     "execution_count": 14,
     "metadata": {},
     "output_type": "execute_result"
    }
   ],
   "source": [
    "\n",
    "dirs = glob.glob(\"../data/**/\")"
   ]
  },
  {
   "cell_type": "code",
   "execution_count": 18,
   "metadata": {},
   "outputs": [
    {
     "name": "stdout",
     "output_type": "stream",
     "text": [
      "['Real Heroes ❤️ https://t.co/PEJsc0v49y',\n",
      " '@RepAdamSchiff Weren’t you on tape talking to Russians?',\n",
      " 'True 😞',\n",
      " \"it's officially been a year since i got two titanium rods and some screws \"\n",
      " 'shoved in my back what a time',\n",
      " 'Today after talking to ordinary people such as chaprasis, hairdressers , '\n",
      " 'road cleaning sweepers domestic servants etc., I am feeling very optimistic '\n",
      " 'about BJP’s prospects in the LS election',\n",
      " 'y’all are extra as fck kskdkddkdnnf lets kill this fcking love😭😭😭😭😂😂😂😂😂😂😂😂😂 '\n",
      " 'https://t.co/Apv55QNee6',\n",
      " '@thehill @BretBaier The Lunatics Libs are calling to resign any one that '\n",
      " 'doesn’t fit with their narrative.   So Crazy!!',\n",
      " '“BJP will win all seats ,AAP might will win one” in South Delhi\\n'\n",
      " '\\n'\n",
      " 'Public on NDTV 😂',\n",
      " 'idc who talks about me because when i come around nothing is said to me',\n",
      " 'Cast your final votes. 🔥\\n\\n#BBMAsTopSocial BTS @BTS_twt',\n",
      " 'Complete Chaos is what the Socialcrats want. Look at all the investigations, '\n",
      " 'playing the race card every minute, border problems, threatening the 2nd '\n",
      " 'Amendment,, shutting down free speech and the list could go on and on. They '\n",
      " 'are attacking from all sides.',\n",
      " '@JJKBTS14 @shenaniganing @BTS_twt Maybe we should start insisting on the '\n",
      " \"fact that BTS is an independant act in the west (CR does PR but they're not \"\n",
      " 'technically THEIR artist), and Big Hit is an indie label more?\\n'\n",
      " '\\n'\n",
      " 'BTS is #BBMAsTopSocial',\n",
      " 'Happy Birthday My Fave PBB Teen housemate @kissesdelavin! ❤️💋 '\n",
      " '#HappyBirthdayKISSES https://t.co/U1OHJxX1a5',\n",
      " '“If Americans can get safe affordable health care from someone other than '\n",
      " 'the company they work for, companies will lose leverage over the workforce” '\n",
      " 'wow, Republicans are *almost* getting it https://t.co/uuuQCZgH8j',\n",
      " '@mphikzo Why they put EcoForum next to EFF,  parties that their abbreviation '\n",
      " 'is almost the same it be far from each other on the ballot paper. \"Sthulile '\n",
      " 'shekile\" https://t.co/EAFTHfnuIU',\n",
      " 'y’all finna raise some pussy kids',\n",
      " '@realDonaldTrump The Mueller report tells us all we need to know about '\n",
      " 'whats \\n'\n",
      " 'been going on the past 2-1/2\\n'\n",
      " 'years👎👎👎',\n",
      " '@commesiqueyo there’s no plaisir to teach something to someone without '\n",
      " 'making him feel stupid',\n",
      " \"Just shut up Linsey. You're not helping. Well, maybe Russia.\",\n",
      " 'Consider what your life may be like if you were #unbanked.\\n'\n",
      " '\\n'\n",
      " 'For the 1.7 billion  👩👩\\U0001f9d1\\U0001f9d1 around the 🌏 without access to '\n",
      " 'financial services, it means living a life that’s unimaginable. \\n'\n",
      " '\\n'\n",
      " 'Great 📽 from @FINCA\\n'\n",
      " '\\n'\n",
      " 'https://t.co/lENzTXV6GJ',\n",
      " 'Live #palladiumprice for spot #Palladium trading $1349.6 USD, lower by $47.2 '\n",
      " 'or 3.5% on the day - https://t.co/L1Vx33PgUb',\n",
      " 'endgame quotes!!!\\n'\n",
      " '\\n'\n",
      " '\"whatever it takes\"\\n'\n",
      " '\"i like this one\"\\n'\n",
      " '\"america\\'s ass\"\\n'\n",
      " '\"i keep telling everybody they should move on, some do, but not us.\"\\n'\n",
      " '\"I am inevitable\"\\n'\n",
      " '\"i am iron man\"\\n'\n",
      " '\"part of the journey is the end\"\\n'\n",
      " '\"we lost, all of us. this is the fight of our lives\"\\n'\n",
      " '\"i love you 3000\"',\n",
      " 'honestly I deserve so much better',\n",
      " '“I am all in a sea of wonders. I doubt; I fear; I think strange things which '\n",
      " 'I dare not confess to my own soul.”',\n",
      " 'Predictive Text Wednesday!\\n'\n",
      " '\\n'\n",
      " 'Use predictive text to finish this sentence, “I wrote so much that...”\\n'\n",
      " '\\n'\n",
      " 'I wrote so much that I’m not sure if you have the same number but you can '\n",
      " 'certainly use it. \\n'\n",
      " '\\n'\n",
      " 'Okay then \\U0001f928🤷🏻\\u200d♀️\\n'\n",
      " '#writingcommunity',\n",
      " '📜⚡️Here is the LEAKED private letter⚡️📜\\n'\n",
      " ' Mueller sent to Barr, dtd 3/27/19, marked \"delivered\" on 3/28/2019. \\n'\n",
      " '\\n'\n",
      " 'Bottom Line:\\n'\n",
      " '~NO COLLUSION\\n'\n",
      " '~NO OBSTRUCTION\\n'\n",
      " '~NO CRIME COMMITTED BY @realDonaldTrump \\n'\n",
      " 'BTW:\\n'\n",
      " \"You Can't 'Obstruct' re: A CRIME THAT NEVER HAPPENED\\n\"\n",
      " 'https://t.co/FRq14aOJAk',\n",
      " '[VIDEO] 190501 \"Swing Kids\" Nomination Preview Cut @ The 55th Baeksang '\n",
      " 'Awards today.\\n'\n",
      " 'Cr: mysticdoh\\n'\n",
      " '\\n'\n",
      " '#BBMAsTopSocial EXO @weareoneEXO \\n'\n",
      " '\\n'\n",
      " ' https://t.co/0OTIQP2EVl',\n",
      " 'I’d throw my ass back for 24 hours straight if I ever got treated this way '\n",
      " 'https://t.co/xl2vEGoPcc',\n",
      " 'Turns out, you can’t trust the guy from the iran contra stuff. '\n",
      " 'https://t.co/V4uF2OosMm',\n",
      " '@WiskLaPiste1 yu know ther',\n",
      " 'Omg yes. And sadly there was a period of time where I started all my '\n",
      " 'messages like -... and still to this day  I don’t know most of the '\n",
      " 'abbreviations 🙄',\n",
      " '5 hours of voting left! \\n'\n",
      " '\\n'\n",
      " '💜 GLOBAL LUV PARTY 💜\\n'\n",
      " '\\n'\n",
      " '#BBMAsTopSocial BTS (@BTS_twt)',\n",
      " 'It’s understandable for debate to grow intense when controvers... More for '\n",
      " 'Libra https://t.co/RFOYdpIQxg',\n",
      " 'Garda who feared he was going to be doused with petrol and set on fire '\n",
      " 'awarded €50k\\n'\n",
      " 'https://t.co/5iIJmsb2qe https://t.co/4PW3yxmQ5d',\n",
      " \"@Independent What's wrong with that??\",\n",
      " 'The @adidas #Nitejogger is back. Taking inspo from the original model, now '\n",
      " 'with modern detailing and BOOST technology. #Promo\\n'\n",
      " '\\n'\n",
      " 'Cop a pair here: https://t.co/2I5EhRgLBa https://t.co/lOIQnV0Srl',\n",
      " 'Loads of Chelsea fans want Erik ten Hag from Ajax to replace Sarri, here is '\n",
      " 'a quote for you to reflect on : \\n'\n",
      " '\\n'\n",
      " 'Erik Ten Hag in August 2018 when asked about his football inspiration -\\n'\n",
      " '\\n'\n",
      " '“I want my boys to follow Sarri’s \\n'\n",
      " 'Napoli. So they understand what real football is.”',\n",
      " 'My fondest childhood memory is thinking $20 is a lot of money',\n",
      " 'CPUSA always  projecting.',\n",
      " '$45 to get your name covered up. Rip https://t.co/nYD2qO2RdE',\n",
      " '🌸Are you waiting for XIUMIN’s Station?👀\\n\\n#BBMAsTopSocial EXO @weareoneEXO',\n",
      " 'Statement by the Spokesperson\\n'\n",
      " 'Ministry of Europe and Foreign Affairs of France\\n'\n",
      " '\\n'\n",
      " 'France welcomes the designation today, by the UNSC 1267 Sanctions Committee, '\n",
      " 'of Mr Masood Azhar on the UN’s ISIL (Da’esh) and Al-Qaida Sanctions List '\n",
      " '(1/4)',\n",
      " 'high school: college isn’t a joke\\ncollege: https://t.co/ntDxo6n05J',\n",
      " '@Dliissa Healthade kombucha is actually the only delicious brand',\n",
      " '#SavePARC\\nSave agriculture\\nSave PARC\\nSave your futut generations',\n",
      " 'taehyung only called jimin by his name and i already started crying\\n'\n",
      " 'https://t.co/c3EAJZPb7L',\n",
      " '@mirtle @travisyost No true hockey fan wants sucker punching an unsuspecting '\n",
      " 'victim on his knees and the guy who threw the punch to scurry away '\n",
      " 'immediately after.',\n",
      " 'my baby\\U0001f97a',\n",
      " '@deasia63183031 girl -',\n",
      " '4 SMA + Intense karaoke + best milkshake = sweetest day enjoyed 💖 \\n'\n",
      " '\\n'\n",
      " 'Also, no voice',\n",
      " 'JeM, a Masood Azhar family enterprise https://t.co/Qw594a7zte',\n",
      " 'CLAUDE.',\n",
      " '@SuryaRAcharya Absolutely true words',\n",
      " 'Noodles',\n",
      " 'No one can stop them https://t.co/MU1VpTT8SP',\n",
      " 'I’m so excited to be attending and participating in my first #NCTE19 this '\n",
      " 'November! The presenter list is INCREDIBLE. Will you be there?',\n",
      " 'Garda who feared he was going to be doused with petrol and set on fire '\n",
      " 'awarded €50k\\n'\n",
      " 'https://t.co/5iIJmsb2qe https://t.co/4PW3yxmQ5d',\n",
      " 'Disease outbreak news from the WHO: https://t.co/KRGhIsfctW',\n",
      " 'Musicians of the Old Post Road to play #Worcester Historical Museum '\n",
      " 'https://t.co/2w7DYLcXmj @WHMuseum @TGRDuckett https://t.co/6ZJxvNTv8M',\n",
      " 'Best middle spiker 💕🔥 https://t.co/FWso23hF37',\n",
      " 'ทามไลน์แบบ if you know, you know 55555555555555',\n",
      " 'Your message is consistent, but it may assume various shapes a... More for '\n",
      " 'Capricorn https://t.co/bmfsylxRq5',\n",
      " 'THIS is the live action Sonic movie that I want. https://t.co/MZPGrgofuE',\n",
      " 'Follow everyone who LIKES and RTs this 🚓',\n",
      " 'The whoops-we-forgot-to-vet-all-the-candidates-properly stage of the '\n",
      " 'campaign is always a treat.',\n",
      " 'Bill to improve NW tribal fishing sites passes US House '\n",
      " 'https://t.co/pFCCVUZD9M',\n",
      " 'NEEDLESS TO SAY! @bryanQmiller #Shadowhunters #ShadowhuntersChat',\n",
      " '@TIMxMACK @OptimalViewing “Retail is for suckers”- Cosmo Kramer',\n",
      " \"@dw_day6_drummie Drum's? Or me, if you wanna?\",\n",
      " 'If Allah helps you, none can overcome you: If He forsakes you, who is there, '\n",
      " 'after that, that can help you? in Allah, then, Let believers put their '\n",
      " 'trust.\\n'\n",
      " '\\n'\n",
      " \"Qur'an 3:160\",\n",
      " '_\\n'\n",
      " '#May this month keep U healthy &amp; strong\\n'\n",
      " '#May joy shall never end\\n'\n",
      " '#May Haters respect individuals 🙏🏻\\n'\n",
      " '\\n'\n",
      " '❤️#1FIRST\\n'\n",
      " '❤️#TeamDollNature\\n'\n",
      " '❤️#TmPetal\\n'\n",
      " '❤️#TmLily\\n'\n",
      " '❤️#WolfDrive\\n'\n",
      " '❤️#IFBMetal\\n'\n",
      " '❤️#AslysSquad\\n'\n",
      " '❤️#ieFun\\n'\n",
      " '❤️#Jen2gain\\n'\n",
      " '❤️#BossLady\\n'\n",
      " '❤️#SpencerDrive\\n'\n",
      " '\\n'\n",
      " '👉🏻Ｈａｐｐｙ Ｎｅｗ Ｍｏｎｔh👈🏻',\n",
      " '🇲️⭕️️🇳️🇩️🅰️️🇾\\n'\n",
      " '🇸️🇭️🅾️️🇺️🇹️🅾️️🇺️🇹\\n'\n",
      " '\\n'\n",
      " '#MondayMotivation\\n'\n",
      " '\\n'\n",
      " '❤️@FoxyKarmen❤️\\n'\n",
      " '\\n'\n",
      " 'is #online now on▶️https://t.co/XtNG5tVFvt\\n'\n",
      " '\\n'\n",
      " '#follow &amp; #RT https://t.co/CuF0yoXUOd',\n",
      " 'This week Review newspaper. https://t.co/zFdi0XKCSM',\n",
      " 'this was the second biggest plot twist in entire blinknation history a '\n",
      " 'moment i will never forget https://t.co/sMkr92CZgJ',\n",
      " '@leekevinj @guardian Other point, if you know males are tested for '\n",
      " 'testosterone, what exactly was your point about male athletes not being '\n",
      " 'tested for testosterone? Odd.',\n",
      " 'Does that mean Zuck is going to stop selling my data? '\n",
      " 'https://t.co/x8ApEtHI8d',\n",
      " '- Destruction of feudalism.\\n'\n",
      " '- Nepotism bring voted out in political parties.\\n'\n",
      " '- Same laws for rich and poor. https://t.co/hQ0xVWynph',\n",
      " '$1.5 TRILLION U.S. tax cut has NO major impact on business capital '\n",
      " 'investments or hiring plans. \\n'\n",
      " 'Anyone surprised?\\n'\n",
      " 'Many CEOs said as much before the plan was even signed.\\n'\n",
      " 'Trickledown Does NOT WORK!\\n'\n",
      " 'https://t.co/aefv2NMRuK',\n",
      " 'take me back to sunflower maze ☹️☹️',\n",
      " 'You would not believe how many times I make this typo lol\\n'\n",
      " '\\n'\n",
      " 'And then every time I do I spend at least 10 minutes trying to figure out '\n",
      " 'why things are acting weird. https://t.co/aywh0eVE9i',\n",
      " 'Disease outbreak news from the WHO: https://t.co/pGcKuZeG3y',\n",
      " 'you all have been saying women don’t need to perform femininity for ages, '\n",
      " 'but you’ve meant cis women, not trans women. it’s important to make this '\n",
      " 'distinction now because gender non-conforming trans women are having their '\n",
      " 'genders demonized because of they way they present.',\n",
      " 'GO GO #BBMAsTopSocial EXO @weareoneEXO',\n",
      " '@slimsumthin Trust the process lmao. That’s what everybody still keep '\n",
      " 'telling me 😂',\n",
      " 'I’m going to have to retweet this one https://t.co/JNT94o5NWo',\n",
      " '@alonzolerone @Apex_sH @_cindaquil the TRUE definition of on sight!',\n",
      " 'The letter. \\n'\n",
      " '\\n'\n",
      " 'This is a scathing rebuke in legalese. https://t.co/LkIBjtq3AP',\n",
      " '#BTS \"Boy With Luv\" feat. Halsey has surpassed 240M views on Youtube in just '\n",
      " '19 days. 🔥🔥 https://t.co/ugyNNTytoq',\n",
      " 'taeji still pronounce nice that taegi pls fight me',\n",
      " 'One last “hi remember me” 👋🏼☹️ https://t.co/zTUVwAQRmn',\n",
      " 'people say mental health is important but nobody gives a fuck about you when '\n",
      " 'you’re depressed',\n",
      " \"America also wanted to make sure that America didn't accept a Federal \"\n",
      " 'Holiday that allowed US workers to show solidarity with oppressed workers '\n",
      " 'worldwide.\\n'\n",
      " '\\n'\n",
      " \"Can't have the proletariat unifying or anything\\n\"\n",
      " '\\n'\n",
      " 'So instead we have a day after which you have to purchase different fashion',\n",
      " '@btsvotingteam @BTS_twt GO CRAZY\\n'\n",
      " 'GLOBAL LUV PARTY\\n'\n",
      " '#BBMAsTopSocial BTS @BTS_twt',\n",
      " 'This summer will be full of fun &amp; income. I’m speaking it into existence '\n",
      " 'https://t.co/y519F1P6az',\n",
      " 'You gotta cancel the whole trip. https://t.co/eYvS21i5Lq',\n",
      " '@MZHemingway @JohnWHuber Schiff is still throwing tantrums because the '\n",
      " 'Mueller report did not turn out the way he wanted.  Fully expect to see him '\n",
      " 'rolling around on the floor kicking and pounding his fists before this is '\n",
      " 'over.',\n",
      " 'We really all lived the same childhood in different houses '\n",
      " 'https://t.co/hZmVHP76U8',\n",
      " \"Dr Subramanian @Swamy39 speaks to @RShivshankar, says 'They have done it at \"\n",
      " \"the right time' |\\n\"\n",
      " '@jagdishshetty @vhsindia\\n'\n",
      " '#ModiCornersMasood https://t.co/xvcZhe9GZK',\n",
      " 'Peter just said fuck men. https://t.co/Xp02O0Q43g',\n",
      " 'My brain, the entire time in the exam hall today:\\n\\nhttps://t.co/ilYERFnUx3']\n"
     ]
    }
   ],
   "source": [
    "from pprint import pprint\n",
    "\n",
    "pprint([t[1] for t in tweets[:100]])"
   ]
  },
  {
   "cell_type": "code",
   "execution_count": null,
   "metadata": {},
   "outputs": [],
   "source": []
  }
 ],
 "metadata": {
  "colab": {
   "collapsed_sections": [],
   "name": "Untitled.ipynb",
   "provenance": []
  },
  "kernelspec": {
   "display_name": "Python 3",
   "language": "python",
   "name": "python3"
  },
  "language_info": {
   "codemirror_mode": {
    "name": "ipython",
    "version": 3
   },
   "file_extension": ".py",
   "mimetype": "text/x-python",
   "name": "python",
   "nbconvert_exporter": "python",
   "pygments_lexer": "ipython3",
   "version": "3.6.5"
  }
 },
 "nbformat": 4,
 "nbformat_minor": 4
}
