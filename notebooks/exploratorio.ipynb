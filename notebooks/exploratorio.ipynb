{
 "cells": [
  {
   "cell_type": "markdown",
   "metadata": {},
   "source": [
    "# Análisis exploratorio de Tweets\n",
    "\n",
    "## Observaciones\n",
    "\n",
    "- Si en `text` no está el texto completo, está en `extended_tweet.full_text`\n",
    "- Me quedo con el retweet directamente en caso de que sea "
   ]
  },
  {
   "cell_type": "code",
   "execution_count": 2,
   "metadata": {
    "colab": {},
    "colab_type": "code",
    "id": "0FFYIb7rdyo-",
    "outputId": "27e30b05-670e-42af-d17b-ce08882362c2"
   },
   "outputs": [
    {
     "name": "stdout",
     "output_type": "stream",
     "text": [
      "1411\n"
     ]
    },
    {
     "data": {
      "application/vnd.jupyter.widget-view+json": {
       "model_id": "485d45e36fcd4515a1abe9bd4ed81f47",
       "version_major": 2,
       "version_minor": 0
      },
      "text/plain": [
       "HBox(children=(IntProgress(value=0, layout=Layout(flex='2'), max=1411), HTML(value='')), layout=Layout(display…"
      ]
     },
     "metadata": {},
     "output_type": "display_data"
    },
    {
     "name": "stdout",
     "output_type": "stream",
     "text": [
      "\n"
     ]
    },
    {
     "data": {
      "text/plain": [
       "1309356"
      ]
     },
     "execution_count": 2,
     "metadata": {},
     "output_type": "execute_result"
    }
   ],
   "source": [
    "import json\n",
    "import glob\n",
    "from tqdm.notebook import trange, tqdm\n",
    "\n",
    "jsons = glob.glob(\"../data/**/**/*.json\")\n",
    "tweets = []\n",
    "\n",
    "print(len(jsons))\n",
    "pbar = tqdm(jsons, ncols=1000)\n",
    "total_count = 0\n",
    "for tweet_file in pbar:\n",
    "    with open(tweet_file) as f:\n",
    "  \n",
    "        for line in f:\n",
    "            try:\n",
    "                total_count += 1\n",
    "                tweet = json.loads(line)\n",
    "                if 'retweeted_status' in tweet:\n",
    "                    tweet = tweet['retweeted_status']\n",
    "                    \n",
    "                if 'lang' in tweet and tweet['lang'] == \"en\":\n",
    "                    try:\n",
    "                        text = tweet[\"extended_tweet\"][\"full_text\"]\n",
    "                    except KeyError:\n",
    "                        text = tweet['text']\n",
    "                    tweets.append(tweet)\n",
    "            except json.JSONDecodeError:\n",
    "                continue\n",
    "        pbar.set_description(f\"{len(tweets) / 1000:.2f}K / {total_count / 1000:.2f}K english tweets so far\")\n",
    "len(tweets)"
   ]
  },
  {
   "cell_type": "code",
   "execution_count": 38,
   "metadata": {},
   "outputs": [
    {
     "data": {
      "text/plain": [
       "18108"
      ]
     },
     "execution_count": 38,
     "metadata": {},
     "output_type": "execute_result"
    }
   ],
   "source": [
    "len([t for t in tweets if \"extended_tweet\" in t])"
   ]
  },
  {
   "cell_type": "code",
   "execution_count": 39,
   "metadata": {},
   "outputs": [
    {
     "data": {
      "text/plain": [
       "18108"
      ]
     },
     "execution_count": 39,
     "metadata": {},
     "output_type": "execute_result"
    }
   ],
   "source": [
    "len([t for t in tweets if \"extended_tweet\" in t and 'full_text' in t[\"extended_tweet\"]])"
   ]
  },
  {
   "cell_type": "code",
   "execution_count": 30,
   "metadata": {},
   "outputs": [],
   "source": [
    "weird_tweets = [t for t in tweets if \"…\" in t[\"text\"] and 'extended_tweet' not in t]"
   ]
  },
  {
   "cell_type": "code",
   "execution_count": 34,
   "metadata": {},
   "outputs": [
    {
     "data": {
      "text/plain": [
       "{'created_at': 'Wed May 01 14:18:43 +0000 2019',\n",
       " 'id': 1123592590853468160,\n",
       " 'id_str': '1123592590853468160',\n",
       " 'text': 'Never forget… \\n#LoyalFiesty \\n🐾👑🖤🌹 https://t.co/2Ieg6cUhXI',\n",
       " 'display_text_range': [0, 33],\n",
       " 'source': '<a href=\"http://twitter.com/download/android\" rel=\"nofollow\">Twitter for Android</a>',\n",
       " 'truncated': False,\n",
       " 'in_reply_to_status_id': None,\n",
       " 'in_reply_to_status_id_str': None,\n",
       " 'in_reply_to_user_id': None,\n",
       " 'in_reply_to_user_id_str': None,\n",
       " 'in_reply_to_screen_name': None,\n",
       " 'user': {'id': 921095968912687105,\n",
       "  'id_str': '921095968912687105',\n",
       "  'name': '🐾 Fiesty 👑',\n",
       "  'screen_name': 'SexKitty_Purrs',\n",
       "  'location': None,\n",
       "  'url': None,\n",
       "  'description': \"Fiesty Handful And A Sweet Kitten. Firm Hands Can Try To Tame Me. It Just Won't Be Easy.\\nI'm Mostly Playful.\\nTweet My Mood/Desires.\\n🐾🖤👑 🌹\",\n",
       "  'translator_type': 'none',\n",
       "  'protected': False,\n",
       "  'verified': False,\n",
       "  'followers_count': 268,\n",
       "  'friends_count': 9,\n",
       "  'listed_count': 2,\n",
       "  'favourites_count': 5171,\n",
       "  'statuses_count': 3157,\n",
       "  'created_at': 'Thu Oct 19 19:29:26 +0000 2017',\n",
       "  'utc_offset': None,\n",
       "  'time_zone': None,\n",
       "  'geo_enabled': False,\n",
       "  'lang': 'en',\n",
       "  'contributors_enabled': False,\n",
       "  'is_translator': False,\n",
       "  'profile_background_color': 'F5F8FA',\n",
       "  'profile_background_image_url': '',\n",
       "  'profile_background_image_url_https': '',\n",
       "  'profile_background_tile': False,\n",
       "  'profile_link_color': '1DA1F2',\n",
       "  'profile_sidebar_border_color': 'C0DEED',\n",
       "  'profile_sidebar_fill_color': 'DDEEF6',\n",
       "  'profile_text_color': '333333',\n",
       "  'profile_use_background_image': True,\n",
       "  'profile_image_url': 'http://pbs.twimg.com/profile_images/1050493088869675008/ovrsPu06_normal.jpg',\n",
       "  'profile_image_url_https': 'https://pbs.twimg.com/profile_images/1050493088869675008/ovrsPu06_normal.jpg',\n",
       "  'profile_banner_url': 'https://pbs.twimg.com/profile_banners/921095968912687105/1539292388',\n",
       "  'default_profile': True,\n",
       "  'default_profile_image': False,\n",
       "  'following': None,\n",
       "  'follow_request_sent': None,\n",
       "  'notifications': None},\n",
       " 'geo': None,\n",
       " 'coordinates': None,\n",
       " 'place': None,\n",
       " 'contributors': None,\n",
       " 'is_quote_status': False,\n",
       " 'quote_count': 0,\n",
       " 'reply_count': 0,\n",
       " 'retweet_count': 0,\n",
       " 'favorite_count': 0,\n",
       " 'entities': {'hashtags': [{'text': 'LoyalFiesty', 'indices': [15, 27]}],\n",
       "  'urls': [],\n",
       "  'user_mentions': [],\n",
       "  'symbols': [],\n",
       "  'media': [{'id': 1123592589192482816,\n",
       "    'id_str': '1123592589192482816',\n",
       "    'indices': [34, 57],\n",
       "    'media_url': 'http://pbs.twimg.com/media/D5fNgb8UUAAy7dV.jpg',\n",
       "    'media_url_https': 'https://pbs.twimg.com/media/D5fNgb8UUAAy7dV.jpg',\n",
       "    'url': 'https://t.co/2Ieg6cUhXI',\n",
       "    'display_url': 'pic.twitter.com/2Ieg6cUhXI',\n",
       "    'expanded_url': 'https://twitter.com/SexKitty_Purrs/status/1123592590853468160/photo/1',\n",
       "    'type': 'photo',\n",
       "    'sizes': {'medium': {'w': 640, 'h': 640, 'resize': 'fit'},\n",
       "     'thumb': {'w': 150, 'h': 150, 'resize': 'crop'},\n",
       "     'large': {'w': 640, 'h': 640, 'resize': 'fit'},\n",
       "     'small': {'w': 640, 'h': 640, 'resize': 'fit'}}}]},\n",
       " 'extended_entities': {'media': [{'id': 1123592589192482816,\n",
       "    'id_str': '1123592589192482816',\n",
       "    'indices': [34, 57],\n",
       "    'media_url': 'http://pbs.twimg.com/media/D5fNgb8UUAAy7dV.jpg',\n",
       "    'media_url_https': 'https://pbs.twimg.com/media/D5fNgb8UUAAy7dV.jpg',\n",
       "    'url': 'https://t.co/2Ieg6cUhXI',\n",
       "    'display_url': 'pic.twitter.com/2Ieg6cUhXI',\n",
       "    'expanded_url': 'https://twitter.com/SexKitty_Purrs/status/1123592590853468160/photo/1',\n",
       "    'type': 'photo',\n",
       "    'sizes': {'medium': {'w': 640, 'h': 640, 'resize': 'fit'},\n",
       "     'thumb': {'w': 150, 'h': 150, 'resize': 'crop'},\n",
       "     'large': {'w': 640, 'h': 640, 'resize': 'fit'},\n",
       "     'small': {'w': 640, 'h': 640, 'resize': 'fit'}}}]},\n",
       " 'favorited': False,\n",
       " 'retweeted': False,\n",
       " 'possibly_sensitive': False,\n",
       " 'filter_level': 'low',\n",
       " 'lang': 'en',\n",
       " 'timestamp_ms': '1556720323657'}"
      ]
     },
     "execution_count": 34,
     "metadata": {},
     "output_type": "execute_result"
    }
   ],
   "source": [
    "weird_tweets[0]"
   ]
  },
  {
   "cell_type": "code",
   "execution_count": null,
   "metadata": {
    "colab": {},
    "colab_type": "code",
    "id": "awfbPFPldypJ"
   },
   "outputs": [],
   "source": [
    "langs = [t[\"lang\"] for t in tweets if 'lang' in t]"
   ]
  },
  {
   "cell_type": "code",
   "execution_count": null,
   "metadata": {
    "colab": {},
    "colab_type": "code",
    "id": "nlllDGwfdypM",
    "outputId": "9823af34-5510-4ec9-b0ff-718b0eccce1a"
   },
   "outputs": [
    {
     "data": {
      "text/plain": [
       "185834"
      ]
     },
     "execution_count": 22,
     "metadata": {
      "tags": []
     },
     "output_type": "execute_result"
    }
   ],
   "source": [
    "len(langs)"
   ]
  },
  {
   "cell_type": "code",
   "execution_count": null,
   "metadata": {
    "colab": {},
    "colab_type": "code",
    "id": "dQT7PeIWdypP",
    "outputId": "976319f4-b10f-443d-b545-2f9e6f676435"
   },
   "outputs": [
    {
     "data": {
      "text/plain": [
       "[('en', 52425), ('ja', 47732), ('th', 13263), ('und', 11188), ('ko', 11002)]"
      ]
     },
     "execution_count": 24,
     "metadata": {
      "tags": []
     },
     "output_type": "execute_result"
    }
   ],
   "source": [
    "from collections import Counter\n",
    "\n",
    "Counter(langs).most_common(5)"
   ]
  },
  {
   "cell_type": "code",
   "execution_count": null,
   "metadata": {
    "colab": {},
    "colab_type": "code",
    "id": "qeRwYYs9dypS"
   },
   "outputs": [],
   "source": []
  }
 ],
 "metadata": {
  "colab": {
   "collapsed_sections": [],
   "name": "Untitled.ipynb",
   "provenance": []
  },
  "kernelspec": {
   "display_name": "Python 3",
   "language": "python",
   "name": "python3"
  },
  "language_info": {
   "codemirror_mode": {
    "name": "ipython",
    "version": 3
   },
   "file_extension": ".py",
   "mimetype": "text/x-python",
   "name": "python",
   "nbconvert_exporter": "python",
   "pygments_lexer": "ipython3",
   "version": "3.6.5"
  }
 },
 "nbformat": 4,
 "nbformat_minor": 4
}
